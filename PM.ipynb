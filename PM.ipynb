{
 "cells": [
  {
   "cell_type": "code",
   "execution_count": 54,
   "id": "d9d3b54c-5dbf-44d5-8f72-852848535c65",
   "metadata": {
    "tags": []
   },
   "outputs": [],
   "source": [
    "import pandas as pd\n",
    "from sklearn.model_selection import train_test_split\n",
    "from sklearn.preprocessing import LabelEncoder\n",
    "from sklearn.metrics import f1_score\n",
    "from sklearn.model_selection import cross_val_score\n",
    "from sklearn.preprocessing import StandardScaler\n",
    "from sklearn.svm import SVC\n",
    "from sklearn.metrics import classification_report, accuracy_score\n",
    "from sklearn.tree import DecisionTreeClassifier\n",
    "import joblib  # Modeli kaydetmek için\n",
    "from sklearn.metrics import precision_score, recall_score\n",
    "from sklearn.ensemble import RandomForestClassifier"
   ]
  },
  {
   "cell_type": "code",
   "execution_count": 2,
   "id": "53811ec0-0b9c-4a3b-be10-ce4234c5ff98",
   "metadata": {
    "jupyter": {
     "source_hidden": true
    },
    "tags": []
   },
   "outputs": [],
   "source": [
    "#from sklearn.svm import SVR\n",
    "#from sklearn.metrics import mean_absolute_error, r2_score, max_error"
   ]
  },
  {
   "cell_type": "code",
   "execution_count": 3,
   "id": "a28611b2-44d7-4e95-a148-9677b95e276d",
   "metadata": {
    "tags": []
   },
   "outputs": [],
   "source": [
    "df = pd.read_csv('BeijingPM20100101_20151231.csv')"
   ]
  },
  {
   "cell_type": "code",
   "execution_count": 4,
   "id": "39c96714-78d6-46f5-aa20-6ffb812a7322",
   "metadata": {
    "tags": []
   },
   "outputs": [
    {
     "data": {
      "text/html": [
       "<div>\n",
       "<style scoped>\n",
       "    .dataframe tbody tr th:only-of-type {\n",
       "        vertical-align: middle;\n",
       "    }\n",
       "\n",
       "    .dataframe tbody tr th {\n",
       "        vertical-align: top;\n",
       "    }\n",
       "\n",
       "    .dataframe thead th {\n",
       "        text-align: right;\n",
       "    }\n",
       "</style>\n",
       "<table border=\"1\" class=\"dataframe\">\n",
       "  <thead>\n",
       "    <tr style=\"text-align: right;\">\n",
       "      <th></th>\n",
       "      <th>No</th>\n",
       "      <th>year</th>\n",
       "      <th>month</th>\n",
       "      <th>day</th>\n",
       "      <th>hour</th>\n",
       "      <th>season</th>\n",
       "      <th>PM_Dongsi</th>\n",
       "      <th>PM_Dongsihuan</th>\n",
       "      <th>PM_Nongzhanguan</th>\n",
       "      <th>PM_US Post</th>\n",
       "      <th>DEWP</th>\n",
       "      <th>HUMI</th>\n",
       "      <th>PRES</th>\n",
       "      <th>TEMP</th>\n",
       "      <th>cbwd</th>\n",
       "      <th>Iws</th>\n",
       "      <th>precipitation</th>\n",
       "      <th>Iprec</th>\n",
       "    </tr>\n",
       "  </thead>\n",
       "  <tbody>\n",
       "    <tr>\n",
       "      <th>0</th>\n",
       "      <td>1</td>\n",
       "      <td>2010</td>\n",
       "      <td>1</td>\n",
       "      <td>1</td>\n",
       "      <td>0</td>\n",
       "      <td>4</td>\n",
       "      <td>NaN</td>\n",
       "      <td>NaN</td>\n",
       "      <td>NaN</td>\n",
       "      <td>NaN</td>\n",
       "      <td>-21.0</td>\n",
       "      <td>43.0</td>\n",
       "      <td>1021.0</td>\n",
       "      <td>-11.0</td>\n",
       "      <td>NW</td>\n",
       "      <td>1.79</td>\n",
       "      <td>0.0</td>\n",
       "      <td>0.0</td>\n",
       "    </tr>\n",
       "    <tr>\n",
       "      <th>1</th>\n",
       "      <td>2</td>\n",
       "      <td>2010</td>\n",
       "      <td>1</td>\n",
       "      <td>1</td>\n",
       "      <td>1</td>\n",
       "      <td>4</td>\n",
       "      <td>NaN</td>\n",
       "      <td>NaN</td>\n",
       "      <td>NaN</td>\n",
       "      <td>NaN</td>\n",
       "      <td>-21.0</td>\n",
       "      <td>47.0</td>\n",
       "      <td>1020.0</td>\n",
       "      <td>-12.0</td>\n",
       "      <td>NW</td>\n",
       "      <td>4.92</td>\n",
       "      <td>0.0</td>\n",
       "      <td>0.0</td>\n",
       "    </tr>\n",
       "    <tr>\n",
       "      <th>2</th>\n",
       "      <td>3</td>\n",
       "      <td>2010</td>\n",
       "      <td>1</td>\n",
       "      <td>1</td>\n",
       "      <td>2</td>\n",
       "      <td>4</td>\n",
       "      <td>NaN</td>\n",
       "      <td>NaN</td>\n",
       "      <td>NaN</td>\n",
       "      <td>NaN</td>\n",
       "      <td>-21.0</td>\n",
       "      <td>43.0</td>\n",
       "      <td>1019.0</td>\n",
       "      <td>-11.0</td>\n",
       "      <td>NW</td>\n",
       "      <td>6.71</td>\n",
       "      <td>0.0</td>\n",
       "      <td>0.0</td>\n",
       "    </tr>\n",
       "    <tr>\n",
       "      <th>3</th>\n",
       "      <td>4</td>\n",
       "      <td>2010</td>\n",
       "      <td>1</td>\n",
       "      <td>1</td>\n",
       "      <td>3</td>\n",
       "      <td>4</td>\n",
       "      <td>NaN</td>\n",
       "      <td>NaN</td>\n",
       "      <td>NaN</td>\n",
       "      <td>NaN</td>\n",
       "      <td>-21.0</td>\n",
       "      <td>55.0</td>\n",
       "      <td>1019.0</td>\n",
       "      <td>-14.0</td>\n",
       "      <td>NW</td>\n",
       "      <td>9.84</td>\n",
       "      <td>0.0</td>\n",
       "      <td>0.0</td>\n",
       "    </tr>\n",
       "    <tr>\n",
       "      <th>4</th>\n",
       "      <td>5</td>\n",
       "      <td>2010</td>\n",
       "      <td>1</td>\n",
       "      <td>1</td>\n",
       "      <td>4</td>\n",
       "      <td>4</td>\n",
       "      <td>NaN</td>\n",
       "      <td>NaN</td>\n",
       "      <td>NaN</td>\n",
       "      <td>NaN</td>\n",
       "      <td>-20.0</td>\n",
       "      <td>51.0</td>\n",
       "      <td>1018.0</td>\n",
       "      <td>-12.0</td>\n",
       "      <td>NW</td>\n",
       "      <td>12.97</td>\n",
       "      <td>0.0</td>\n",
       "      <td>0.0</td>\n",
       "    </tr>\n",
       "    <tr>\n",
       "      <th>...</th>\n",
       "      <td>...</td>\n",
       "      <td>...</td>\n",
       "      <td>...</td>\n",
       "      <td>...</td>\n",
       "      <td>...</td>\n",
       "      <td>...</td>\n",
       "      <td>...</td>\n",
       "      <td>...</td>\n",
       "      <td>...</td>\n",
       "      <td>...</td>\n",
       "      <td>...</td>\n",
       "      <td>...</td>\n",
       "      <td>...</td>\n",
       "      <td>...</td>\n",
       "      <td>...</td>\n",
       "      <td>...</td>\n",
       "      <td>...</td>\n",
       "      <td>...</td>\n",
       "    </tr>\n",
       "    <tr>\n",
       "      <th>52579</th>\n",
       "      <td>52580</td>\n",
       "      <td>2015</td>\n",
       "      <td>12</td>\n",
       "      <td>31</td>\n",
       "      <td>19</td>\n",
       "      <td>4</td>\n",
       "      <td>140.0</td>\n",
       "      <td>157.0</td>\n",
       "      <td>122.0</td>\n",
       "      <td>133.0</td>\n",
       "      <td>-8.0</td>\n",
       "      <td>68.0</td>\n",
       "      <td>1031.0</td>\n",
       "      <td>-3.0</td>\n",
       "      <td>SE</td>\n",
       "      <td>7.14</td>\n",
       "      <td>0.0</td>\n",
       "      <td>0.0</td>\n",
       "    </tr>\n",
       "    <tr>\n",
       "      <th>52580</th>\n",
       "      <td>52581</td>\n",
       "      <td>2015</td>\n",
       "      <td>12</td>\n",
       "      <td>31</td>\n",
       "      <td>20</td>\n",
       "      <td>4</td>\n",
       "      <td>157.0</td>\n",
       "      <td>199.0</td>\n",
       "      <td>149.0</td>\n",
       "      <td>169.0</td>\n",
       "      <td>-8.0</td>\n",
       "      <td>63.0</td>\n",
       "      <td>1030.0</td>\n",
       "      <td>-2.0</td>\n",
       "      <td>SE</td>\n",
       "      <td>8.03</td>\n",
       "      <td>0.0</td>\n",
       "      <td>0.0</td>\n",
       "    </tr>\n",
       "    <tr>\n",
       "      <th>52581</th>\n",
       "      <td>52582</td>\n",
       "      <td>2015</td>\n",
       "      <td>12</td>\n",
       "      <td>31</td>\n",
       "      <td>21</td>\n",
       "      <td>4</td>\n",
       "      <td>171.0</td>\n",
       "      <td>231.0</td>\n",
       "      <td>196.0</td>\n",
       "      <td>203.0</td>\n",
       "      <td>-10.0</td>\n",
       "      <td>73.0</td>\n",
       "      <td>1030.0</td>\n",
       "      <td>-6.0</td>\n",
       "      <td>NE</td>\n",
       "      <td>0.89</td>\n",
       "      <td>0.0</td>\n",
       "      <td>0.0</td>\n",
       "    </tr>\n",
       "    <tr>\n",
       "      <th>52582</th>\n",
       "      <td>52583</td>\n",
       "      <td>2015</td>\n",
       "      <td>12</td>\n",
       "      <td>31</td>\n",
       "      <td>22</td>\n",
       "      <td>4</td>\n",
       "      <td>204.0</td>\n",
       "      <td>242.0</td>\n",
       "      <td>221.0</td>\n",
       "      <td>212.0</td>\n",
       "      <td>-10.0</td>\n",
       "      <td>73.0</td>\n",
       "      <td>1030.0</td>\n",
       "      <td>-6.0</td>\n",
       "      <td>NE</td>\n",
       "      <td>1.78</td>\n",
       "      <td>0.0</td>\n",
       "      <td>0.0</td>\n",
       "    </tr>\n",
       "    <tr>\n",
       "      <th>52583</th>\n",
       "      <td>52584</td>\n",
       "      <td>2015</td>\n",
       "      <td>12</td>\n",
       "      <td>31</td>\n",
       "      <td>23</td>\n",
       "      <td>4</td>\n",
       "      <td>NaN</td>\n",
       "      <td>NaN</td>\n",
       "      <td>NaN</td>\n",
       "      <td>235.0</td>\n",
       "      <td>-9.0</td>\n",
       "      <td>79.0</td>\n",
       "      <td>1029.0</td>\n",
       "      <td>-6.0</td>\n",
       "      <td>NE</td>\n",
       "      <td>2.67</td>\n",
       "      <td>0.0</td>\n",
       "      <td>0.0</td>\n",
       "    </tr>\n",
       "  </tbody>\n",
       "</table>\n",
       "<p>52584 rows × 18 columns</p>\n",
       "</div>"
      ],
      "text/plain": [
       "          No  year  month  day  hour  season  PM_Dongsi  PM_Dongsihuan  \\\n",
       "0          1  2010      1    1     0       4        NaN            NaN   \n",
       "1          2  2010      1    1     1       4        NaN            NaN   \n",
       "2          3  2010      1    1     2       4        NaN            NaN   \n",
       "3          4  2010      1    1     3       4        NaN            NaN   \n",
       "4          5  2010      1    1     4       4        NaN            NaN   \n",
       "...      ...   ...    ...  ...   ...     ...        ...            ...   \n",
       "52579  52580  2015     12   31    19       4      140.0          157.0   \n",
       "52580  52581  2015     12   31    20       4      157.0          199.0   \n",
       "52581  52582  2015     12   31    21       4      171.0          231.0   \n",
       "52582  52583  2015     12   31    22       4      204.0          242.0   \n",
       "52583  52584  2015     12   31    23       4        NaN            NaN   \n",
       "\n",
       "       PM_Nongzhanguan  PM_US Post  DEWP  HUMI    PRES  TEMP cbwd    Iws  \\\n",
       "0                  NaN         NaN -21.0  43.0  1021.0 -11.0   NW   1.79   \n",
       "1                  NaN         NaN -21.0  47.0  1020.0 -12.0   NW   4.92   \n",
       "2                  NaN         NaN -21.0  43.0  1019.0 -11.0   NW   6.71   \n",
       "3                  NaN         NaN -21.0  55.0  1019.0 -14.0   NW   9.84   \n",
       "4                  NaN         NaN -20.0  51.0  1018.0 -12.0   NW  12.97   \n",
       "...                ...         ...   ...   ...     ...   ...  ...    ...   \n",
       "52579            122.0       133.0  -8.0  68.0  1031.0  -3.0   SE   7.14   \n",
       "52580            149.0       169.0  -8.0  63.0  1030.0  -2.0   SE   8.03   \n",
       "52581            196.0       203.0 -10.0  73.0  1030.0  -6.0   NE   0.89   \n",
       "52582            221.0       212.0 -10.0  73.0  1030.0  -6.0   NE   1.78   \n",
       "52583              NaN       235.0  -9.0  79.0  1029.0  -6.0   NE   2.67   \n",
       "\n",
       "       precipitation  Iprec  \n",
       "0                0.0    0.0  \n",
       "1                0.0    0.0  \n",
       "2                0.0    0.0  \n",
       "3                0.0    0.0  \n",
       "4                0.0    0.0  \n",
       "...              ...    ...  \n",
       "52579            0.0    0.0  \n",
       "52580            0.0    0.0  \n",
       "52581            0.0    0.0  \n",
       "52582            0.0    0.0  \n",
       "52583            0.0    0.0  \n",
       "\n",
       "[52584 rows x 18 columns]"
      ]
     },
     "execution_count": 4,
     "metadata": {},
     "output_type": "execute_result"
    }
   ],
   "source": [
    "df"
   ]
  },
  {
   "cell_type": "code",
   "execution_count": 5,
   "id": "ece43034-8f39-4410-9d43-d94d1445343e",
   "metadata": {
    "tags": []
   },
   "outputs": [
    {
     "data": {
      "image/png": "[encoded data removed]",
      "text/plain": [
       "<Figure size 1500x1000 with 9 Axes>"
      ]
     },
     "metadata": {},
     "output_type": "display_data"
    },
    {
     "data": {
      "image/png": "[encoded data removed]",
      "text/plain": [
       "<Figure size 1500x1000 with 7 Axes>"
      ]
     },
     "metadata": {},
     "output_type": "display_data"
    },
    {
     "data": {
      "text/plain": [
       "<Figure size 1500x1000 with 0 Axes>"
      ]
     },
     "metadata": {},
     "output_type": "display_data"
    }
   ],
   "source": [
    "import matplotlib.pyplot as plt\n",
    "import seaborn as sns\n",
    "df_cleaned = df.dropna(subset=['PM_US Post'])\n",
    "\n",
    "# Selecting the same subset of columns for analysis\n",
    "columns_to_analyze = ['DEWP', 'HUMI', 'PRES', 'TEMP', 'PM_US Post','precipitation','Iws']\n",
    "\n",
    "# Plotting histograms for selected columns\n",
    "\n",
    "df_cleaned[columns_to_analyze].hist(bins=15, figsize=(15, 10), layout=(3, 3))\n",
    "\n",
    "plt.figure(figsize=(15, 10))  # Boyutları, tüm alt grafiklerin sığması için genişlettim\n",
    "for i, col in enumerate(columns_to_analyze):\n",
    "    plt.subplot(3, 3, i + 1)  # subplot indexi 1'den başlar\n",
    "    sns.boxplot(y=df_cleaned[col])\n",
    "    plt.title(col)\n",
    "plt.tight_layout()  # Grafikleri düzgün bir şekilde sığdırmak için\n",
    "plt.show()\n",
    "plt.figure(figsize=(15, 10))  # Boyutları, tüm alt grafiklerin sığması için genişlettim\n",
    "\n",
    "\n",
    "plt.tight_layout()\n",
    "plt.show()"
   ]
  },
  {
   "cell_type": "code",
   "execution_count": 6,
   "id": "8d20c0c5-3132-457f-b53e-b4edd5f19c3d",
   "metadata": {
    "tags": []
   },
   "outputs": [],
   "source": [
    "# 'precipitation' değişkeni için sıfır değerlerini gösteren yeni bir ikili özellik\n",
    "# 'precipitation' değeri 0 ise yeni değişken 1, değilse 0 değerini alır\n",
    "df['No_Precipitation'] = (df['precipitation'] == 0).astype(int)"
   ]
  },
  {
   "cell_type": "code",
   "execution_count": 7,
   "id": "cd17b1c6-cbb5-4b7e-9b9e-362c2a2c59ec",
   "metadata": {},
   "outputs": [],
   "source": [
    "df['Air_Quality'] = ['clean' if x <= 25 else 'dirty' for x in df['PM_US Post']]\n",
    "\n",
    "# 'Air_Quality' sütununu hedef değişken olarak kullanarak modelinizi eğitmek için hazırlayın\n",
    "X = df.drop(['PM_US Post', 'Air_Quality'], axis=1)  # Özellik matrisi, hedef ve etiket sütunları hariç\n",
    "y = df['Air_Quality']"
   ]
  },
  {
   "cell_type": "code",
   "execution_count": 8,
   "id": "0c20ceed-7c7d-4de4-b669-76a88df6704a",
   "metadata": {},
   "outputs": [
    {
     "name": "stdout",
     "output_type": "stream",
     "text": [
      "Air_Quality\n",
      "dirty    40848\n",
      "clean    11736\n",
      "Name: count, dtype: int64\n"
     ]
    }
   ],
   "source": [
    "# 'Air_Quality' sütununda her bir sınıfın dağılımını hesapla\n",
    "class_distribution = df['Air_Quality'].value_counts()\n",
    "\n",
    "# Sınıf dağılımını yazdır\n",
    "print(class_distribution)\n"
   ]
  },
  {
   "cell_type": "code",
   "execution_count": 9,
   "id": "d8cabdd9-8f64-4f98-ad8b-2a91c3c8be9a",
   "metadata": {
    "tags": []
   },
   "outputs": [],
   "source": [
    "# pmusporttaki eksik değerli sütunların cıkarılması\n",
    "df = df.dropna(subset=['PM_US Post']) "
   ]
  },
  {
   "cell_type": "code",
   "execution_count": 10,
   "id": "15f88401-4b40-4c77-b06e-0af3aeab645d",
   "metadata": {
    "tags": []
   },
   "outputs": [],
   "source": [
    "# sayısal sütunların belirlenmesi\n",
    "numerical_cols = df.select_dtypes(include=['float64', 'int64']).columns"
   ]
  },
  {
   "cell_type": "code",
   "execution_count": 11,
   "id": "0c9999ec-c59c-438a-8a38-a192efa39d09",
   "metadata": {
    "tags": []
   },
   "outputs": [],
   "source": [
    "# eksik değerlerin sayısal sütunlarda doldurulması\n",
    "for col in numerical_cols:\n",
    "    df.loc[:, col] = df.loc[:, col].fillna(df[col].mean())"
   ]
  },
  {
   "cell_type": "code",
   "execution_count": 12,
   "id": "296d5b61-35dd-456c-b25f-b6fec190d180",
   "metadata": {
    "tags": []
   },
   "outputs": [],
   "source": [
    "# eksik değerleri unknown ile doldurma ve label encoding uygulama\n",
    "df.loc[:, 'cbwd'] = df['cbwd'].fillna('Unknown')\n",
    "label_encoder = LabelEncoder()\n",
    "df.loc[:, 'cbwd'] = label_encoder.fit_transform(df['cbwd'])\n"
   ]
  },
  {
   "cell_type": "code",
   "execution_count": 13,
   "id": "6f9a879a-b22c-4975-9575-fb62ca5554a8",
   "metadata": {
    "tags": []
   },
   "outputs": [
    {
     "data": {
      "text/html": [
       "<div>\n",
       "<style scoped>\n",
       "    .dataframe tbody tr th:only-of-type {\n",
       "        vertical-align: middle;\n",
       "    }\n",
       "\n",
       "    .dataframe tbody tr th {\n",
       "        vertical-align: top;\n",
       "    }\n",
       "\n",
       "    .dataframe thead th {\n",
       "        text-align: right;\n",
       "    }\n",
       "</style>\n",
       "<table border=\"1\" class=\"dataframe\">\n",
       "  <thead>\n",
       "    <tr style=\"text-align: right;\">\n",
       "      <th></th>\n",
       "      <th>No</th>\n",
       "      <th>year</th>\n",
       "      <th>month</th>\n",
       "      <th>day</th>\n",
       "      <th>hour</th>\n",
       "      <th>season</th>\n",
       "      <th>PM_Dongsi</th>\n",
       "      <th>PM_Dongsihuan</th>\n",
       "      <th>PM_Nongzhanguan</th>\n",
       "      <th>PM_US Post</th>\n",
       "      <th>DEWP</th>\n",
       "      <th>HUMI</th>\n",
       "      <th>PRES</th>\n",
       "      <th>TEMP</th>\n",
       "      <th>cbwd</th>\n",
       "      <th>Iws</th>\n",
       "      <th>precipitation</th>\n",
       "      <th>Iprec</th>\n",
       "      <th>No_Precipitation</th>\n",
       "      <th>Air_Quality</th>\n",
       "    </tr>\n",
       "  </thead>\n",
       "  <tbody>\n",
       "    <tr>\n",
       "      <th>23</th>\n",
       "      <td>24</td>\n",
       "      <td>2010</td>\n",
       "      <td>1</td>\n",
       "      <td>1</td>\n",
       "      <td>23</td>\n",
       "      <td>4</td>\n",
       "      <td>89.155484</td>\n",
       "      <td>92.442068</td>\n",
       "      <td>88.515875</td>\n",
       "      <td>129.0</td>\n",
       "      <td>-17.0</td>\n",
       "      <td>41.0</td>\n",
       "      <td>1020.0</td>\n",
       "      <td>-5.0</td>\n",
       "      <td>4</td>\n",
       "      <td>0.89</td>\n",
       "      <td>0.0</td>\n",
       "      <td>0.0</td>\n",
       "      <td>1</td>\n",
       "      <td>dirty</td>\n",
       "    </tr>\n",
       "    <tr>\n",
       "      <th>24</th>\n",
       "      <td>25</td>\n",
       "      <td>2010</td>\n",
       "      <td>1</td>\n",
       "      <td>2</td>\n",
       "      <td>0</td>\n",
       "      <td>4</td>\n",
       "      <td>89.155484</td>\n",
       "      <td>92.442068</td>\n",
       "      <td>88.515875</td>\n",
       "      <td>148.0</td>\n",
       "      <td>-16.0</td>\n",
       "      <td>38.0</td>\n",
       "      <td>1020.0</td>\n",
       "      <td>-4.0</td>\n",
       "      <td>2</td>\n",
       "      <td>1.79</td>\n",
       "      <td>0.0</td>\n",
       "      <td>0.0</td>\n",
       "      <td>1</td>\n",
       "      <td>dirty</td>\n",
       "    </tr>\n",
       "    <tr>\n",
       "      <th>25</th>\n",
       "      <td>26</td>\n",
       "      <td>2010</td>\n",
       "      <td>1</td>\n",
       "      <td>2</td>\n",
       "      <td>1</td>\n",
       "      <td>4</td>\n",
       "      <td>89.155484</td>\n",
       "      <td>92.442068</td>\n",
       "      <td>88.515875</td>\n",
       "      <td>159.0</td>\n",
       "      <td>-15.0</td>\n",
       "      <td>42.0</td>\n",
       "      <td>1020.0</td>\n",
       "      <td>-4.0</td>\n",
       "      <td>2</td>\n",
       "      <td>2.68</td>\n",
       "      <td>0.0</td>\n",
       "      <td>0.0</td>\n",
       "      <td>1</td>\n",
       "      <td>dirty</td>\n",
       "    </tr>\n",
       "    <tr>\n",
       "      <th>26</th>\n",
       "      <td>27</td>\n",
       "      <td>2010</td>\n",
       "      <td>1</td>\n",
       "      <td>2</td>\n",
       "      <td>2</td>\n",
       "      <td>4</td>\n",
       "      <td>89.155484</td>\n",
       "      <td>92.442068</td>\n",
       "      <td>88.515875</td>\n",
       "      <td>181.0</td>\n",
       "      <td>-11.0</td>\n",
       "      <td>63.5</td>\n",
       "      <td>1021.0</td>\n",
       "      <td>-5.0</td>\n",
       "      <td>2</td>\n",
       "      <td>3.57</td>\n",
       "      <td>0.0</td>\n",
       "      <td>0.0</td>\n",
       "      <td>1</td>\n",
       "      <td>dirty</td>\n",
       "    </tr>\n",
       "    <tr>\n",
       "      <th>27</th>\n",
       "      <td>28</td>\n",
       "      <td>2010</td>\n",
       "      <td>1</td>\n",
       "      <td>2</td>\n",
       "      <td>3</td>\n",
       "      <td>4</td>\n",
       "      <td>89.155484</td>\n",
       "      <td>92.442068</td>\n",
       "      <td>88.515875</td>\n",
       "      <td>138.0</td>\n",
       "      <td>-7.0</td>\n",
       "      <td>85.0</td>\n",
       "      <td>1022.0</td>\n",
       "      <td>-5.0</td>\n",
       "      <td>2</td>\n",
       "      <td>5.36</td>\n",
       "      <td>0.0</td>\n",
       "      <td>0.0</td>\n",
       "      <td>1</td>\n",
       "      <td>dirty</td>\n",
       "    </tr>\n",
       "    <tr>\n",
       "      <th>...</th>\n",
       "      <td>...</td>\n",
       "      <td>...</td>\n",
       "      <td>...</td>\n",
       "      <td>...</td>\n",
       "      <td>...</td>\n",
       "      <td>...</td>\n",
       "      <td>...</td>\n",
       "      <td>...</td>\n",
       "      <td>...</td>\n",
       "      <td>...</td>\n",
       "      <td>...</td>\n",
       "      <td>...</td>\n",
       "      <td>...</td>\n",
       "      <td>...</td>\n",
       "      <td>...</td>\n",
       "      <td>...</td>\n",
       "      <td>...</td>\n",
       "      <td>...</td>\n",
       "      <td>...</td>\n",
       "      <td>...</td>\n",
       "    </tr>\n",
       "    <tr>\n",
       "      <th>52579</th>\n",
       "      <td>52580</td>\n",
       "      <td>2015</td>\n",
       "      <td>12</td>\n",
       "      <td>31</td>\n",
       "      <td>19</td>\n",
       "      <td>4</td>\n",
       "      <td>140.000000</td>\n",
       "      <td>157.000000</td>\n",
       "      <td>122.000000</td>\n",
       "      <td>133.0</td>\n",
       "      <td>-8.0</td>\n",
       "      <td>68.0</td>\n",
       "      <td>1031.0</td>\n",
       "      <td>-3.0</td>\n",
       "      <td>2</td>\n",
       "      <td>7.14</td>\n",
       "      <td>0.0</td>\n",
       "      <td>0.0</td>\n",
       "      <td>1</td>\n",
       "      <td>dirty</td>\n",
       "    </tr>\n",
       "    <tr>\n",
       "      <th>52580</th>\n",
       "      <td>52581</td>\n",
       "      <td>2015</td>\n",
       "      <td>12</td>\n",
       "      <td>31</td>\n",
       "      <td>20</td>\n",
       "      <td>4</td>\n",
       "      <td>157.000000</td>\n",
       "      <td>199.000000</td>\n",
       "      <td>149.000000</td>\n",
       "      <td>169.0</td>\n",
       "      <td>-8.0</td>\n",
       "      <td>63.0</td>\n",
       "      <td>1030.0</td>\n",
       "      <td>-2.0</td>\n",
       "      <td>2</td>\n",
       "      <td>8.03</td>\n",
       "      <td>0.0</td>\n",
       "      <td>0.0</td>\n",
       "      <td>1</td>\n",
       "      <td>dirty</td>\n",
       "    </tr>\n",
       "    <tr>\n",
       "      <th>52581</th>\n",
       "      <td>52582</td>\n",
       "      <td>2015</td>\n",
       "      <td>12</td>\n",
       "      <td>31</td>\n",
       "      <td>21</td>\n",
       "      <td>4</td>\n",
       "      <td>171.000000</td>\n",
       "      <td>231.000000</td>\n",
       "      <td>196.000000</td>\n",
       "      <td>203.0</td>\n",
       "      <td>-10.0</td>\n",
       "      <td>73.0</td>\n",
       "      <td>1030.0</td>\n",
       "      <td>-6.0</td>\n",
       "      <td>0</td>\n",
       "      <td>0.89</td>\n",
       "      <td>0.0</td>\n",
       "      <td>0.0</td>\n",
       "      <td>1</td>\n",
       "      <td>dirty</td>\n",
       "    </tr>\n",
       "    <tr>\n",
       "      <th>52582</th>\n",
       "      <td>52583</td>\n",
       "      <td>2015</td>\n",
       "      <td>12</td>\n",
       "      <td>31</td>\n",
       "      <td>22</td>\n",
       "      <td>4</td>\n",
       "      <td>204.000000</td>\n",
       "      <td>242.000000</td>\n",
       "      <td>221.000000</td>\n",
       "      <td>212.0</td>\n",
       "      <td>-10.0</td>\n",
       "      <td>73.0</td>\n",
       "      <td>1030.0</td>\n",
       "      <td>-6.0</td>\n",
       "      <td>0</td>\n",
       "      <td>1.78</td>\n",
       "      <td>0.0</td>\n",
       "      <td>0.0</td>\n",
       "      <td>1</td>\n",
       "      <td>dirty</td>\n",
       "    </tr>\n",
       "    <tr>\n",
       "      <th>52583</th>\n",
       "      <td>52584</td>\n",
       "      <td>2015</td>\n",
       "      <td>12</td>\n",
       "      <td>31</td>\n",
       "      <td>23</td>\n",
       "      <td>4</td>\n",
       "      <td>89.155484</td>\n",
       "      <td>92.442068</td>\n",
       "      <td>88.515875</td>\n",
       "      <td>235.0</td>\n",
       "      <td>-9.0</td>\n",
       "      <td>79.0</td>\n",
       "      <td>1029.0</td>\n",
       "      <td>-6.0</td>\n",
       "      <td>0</td>\n",
       "      <td>2.67</td>\n",
       "      <td>0.0</td>\n",
       "      <td>0.0</td>\n",
       "      <td>1</td>\n",
       "      <td>dirty</td>\n",
       "    </tr>\n",
       "  </tbody>\n",
       "</table>\n",
       "<p>50387 rows × 20 columns</p>\n",
       "</div>"
      ],
      "text/plain": [
       "          No  year  month  day  hour  season   PM_Dongsi  PM_Dongsihuan  \\\n",
       "23        24  2010      1    1    23       4   89.155484      92.442068   \n",
       "24        25  2010      1    2     0       4   89.155484      92.442068   \n",
       "25        26  2010      1    2     1       4   89.155484      92.442068   \n",
       "26        27  2010      1    2     2       4   89.155484      92.442068   \n",
       "27        28  2010      1    2     3       4   89.155484      92.442068   \n",
       "...      ...   ...    ...  ...   ...     ...         ...            ...   \n",
       "52579  52580  2015     12   31    19       4  140.000000     157.000000   \n",
       "52580  52581  2015     12   31    20       4  157.000000     199.000000   \n",
       "52581  52582  2015     12   31    21       4  171.000000     231.000000   \n",
       "52582  52583  2015     12   31    22       4  204.000000     242.000000   \n",
       "52583  52584  2015     12   31    23       4   89.155484      92.442068   \n",
       "\n",
       "       PM_Nongzhanguan  PM_US Post  DEWP  HUMI    PRES  TEMP cbwd   Iws  \\\n",
       "23           88.515875       129.0 -17.0  41.0  1020.0  -5.0    4  0.89   \n",
       "24           88.515875       148.0 -16.0  38.0  1020.0  -4.0    2  1.79   \n",
       "25           88.515875       159.0 -15.0  42.0  1020.0  -4.0    2  2.68   \n",
       "26           88.515875       181.0 -11.0  63.5  1021.0  -5.0    2  3.57   \n",
       "27           88.515875       138.0  -7.0  85.0  1022.0  -5.0    2  5.36   \n",
       "...                ...         ...   ...   ...     ...   ...  ...   ...   \n",
       "52579       122.000000       133.0  -8.0  68.0  1031.0  -3.0    2  7.14   \n",
       "52580       149.000000       169.0  -8.0  63.0  1030.0  -2.0    2  8.03   \n",
       "52581       196.000000       203.0 -10.0  73.0  1030.0  -6.0    0  0.89   \n",
       "52582       221.000000       212.0 -10.0  73.0  1030.0  -6.0    0  1.78   \n",
       "52583        88.515875       235.0  -9.0  79.0  1029.0  -6.0    0  2.67   \n",
       "\n",
       "       precipitation  Iprec  No_Precipitation Air_Quality  \n",
       "23               0.0    0.0                 1       dirty  \n",
       "24               0.0    0.0                 1       dirty  \n",
       "25               0.0    0.0                 1       dirty  \n",
       "26               0.0    0.0                 1       dirty  \n",
       "27               0.0    0.0                 1       dirty  \n",
       "...              ...    ...               ...         ...  \n",
       "52579            0.0    0.0                 1       dirty  \n",
       "52580            0.0    0.0                 1       dirty  \n",
       "52581            0.0    0.0                 1       dirty  \n",
       "52582            0.0    0.0                 1       dirty  \n",
       "52583            0.0    0.0                 1       dirty  \n",
       "\n",
       "[50387 rows x 20 columns]"
      ]
     },
     "execution_count": 13,
     "metadata": {},
     "output_type": "execute_result"
    }
   ],
   "source": [
    "df"
   ]
  },
  {
   "cell_type": "code",
   "execution_count": 14,
   "id": "6233da78-b240-48b5-a63e-8413e665495d",
   "metadata": {
    "tags": []
   },
   "outputs": [
    {
     "data": {
      "text/plain": [
       "23    4\n",
       "24    2\n",
       "25    2\n",
       "26    2\n",
       "27    2\n",
       "Name: cbwd, dtype: object"
      ]
     },
     "execution_count": 14,
     "metadata": {},
     "output_type": "execute_result"
    }
   ],
   "source": [
    "df['cbwd'].head()"
   ]
  },
  {
   "cell_type": "code",
   "execution_count": 15,
   "id": "e4494ac8-c662-4b19-89d3-33aba3a3e17f",
   "metadata": {
    "tags": []
   },
   "outputs": [],
   "source": [
    "# Özellik ve hedef değişkenlerini ayırma\n",
    "X = df[['TEMP', 'PRES', 'DEWP', 'HUMI', 'cbwd','hour','season','month','No_Precipitation']]  # Bağımsız değişkenler"
   ]
  },
  {
   "cell_type": "code",
   "execution_count": 16,
   "id": "ba5e7fc1-9416-4e6e-8154-ffb912da0a2e",
   "metadata": {
    "tags": []
   },
   "outputs": [],
   "source": [
    "y = df['Air_Quality']  # Hedef değişken"
   ]
  },
  {
   "cell_type": "code",
   "execution_count": 17,
   "id": "6dc73a81-88a2-499e-a8ff-b33dc10512ea",
   "metadata": {
    "jupyter": {
     "source_hidden": true
    },
    "tags": []
   },
   "outputs": [],
   "source": [
    "# Veriyi eğitim ve test setlerine ayırma\n",
    "#X_train, X_test, y_train, y_test = train_test_split(X, y, test_size=0.2, random_state=42)"
   ]
  },
  {
   "cell_type": "code",
   "execution_count": 18,
   "id": "bca9b02a-19e3-483f-b003-383f40ed82f6",
   "metadata": {
    "jupyter": {
     "source_hidden": true
    },
    "tags": []
   },
   "outputs": [],
   "source": [
    "#knn = KNeighborsRegressor(n_neighbors=5,metric='euclidean')\n",
    "#knn.fit(X_train, y_train)"
   ]
  },
  {
   "cell_type": "code",
   "execution_count": 19,
   "id": "b03199b1-1e11-4a37-ba66-d9f1e28c0b2f",
   "metadata": {
    "jupyter": {
     "source_hidden": true
    },
    "tags": []
   },
   "outputs": [],
   "source": [
    "#y_pred = knn.predict(X_test)\n",
    "#mse = mean_squared_error(y_test, y_pred)\n",
    "#r2 = r2_score(y_test, y_pred)\n",
    "#print(f'Mean Squared Error: {mse}')"
   ]
  },
  {
   "cell_type": "code",
   "execution_count": 20,
   "id": "37e33df1-69d1-42e2-bfd5-eb8209ef2b1a",
   "metadata": {
    "jupyter": {
     "source_hidden": true
    },
    "tags": []
   },
   "outputs": [],
   "source": [
    "#r2"
   ]
  },
  {
   "cell_type": "code",
   "execution_count": 21,
   "id": "4a6ac0c5-a6a0-4222-9f00-aba2f999acb6",
   "metadata": {
    "jupyter": {
     "source_hidden": true
    },
    "tags": []
   },
   "outputs": [],
   "source": [
    "#y_test_array = y_test.to_numpy()\n",
    "#errors = y_test_array - y_pred\n",
    "#error_df = pd.DataFrame({'Gerçek Değerler': y_test_array, 'Tahminler': y_pred, 'Hatalar': errors})\n",
    "#error_summary = error_df['Hatalar'].describe()\n",
    "#error_df.hist(column='Hatalar')"
   ]
  },
  {
   "cell_type": "code",
   "execution_count": 22,
   "id": "bdd941cc-ebb0-4ba2-aed5-9370641f96b5",
   "metadata": {
    "jupyter": {
     "source_hidden": true
    },
    "tags": []
   },
   "outputs": [],
   "source": [
    "#error_summary"
   ]
  },
  {
   "cell_type": "code",
   "execution_count": 23,
   "id": "2631bcab-29cb-489f-b223-bc4ff9ba216a",
   "metadata": {
    "jupyter": {
     "source_hidden": true
    },
    "tags": []
   },
   "outputs": [],
   "source": [
    "# K değerleri için bir dizi oluştur\n",
    "#k_values = range(1, 20)\n",
    "#mse_values = []\n",
    "# Her bir k için modeli eğit ve MSE'yi hesapla\n",
    "#for k in k_values:\n",
    "  #  knn = KNeighborsRegressor(n_neighbors=k)\n",
    "   # knn.fit(X_train, y_train)\n",
    "   # y_pred = knn.predict(X_test)\n",
    "   # mse = mean_squared_error(y_test, y_pred)\n",
    "   # mse_values.append(mse)\n"
   ]
  },
  {
   "cell_type": "code",
   "execution_count": 24,
   "id": "0c0eb56e-7521-40e2-99aa-47b6c825c2af",
   "metadata": {
    "jupyter": {
     "source_hidden": true
    },
    "tags": []
   },
   "outputs": [],
   "source": [
    "# En düşük MSE'yi veren k değerini bul\n",
    "#optimal_k = k_values[mse_values.index(min(mse_values))]\n",
    "#print(f\"Optimal k değeri: {optimal_k}\")"
   ]
  },
  {
   "cell_type": "code",
   "execution_count": 25,
   "id": "ba011710-46ce-4264-beb1-df510988e88d",
   "metadata": {
    "jupyter": {
     "source_hidden": true
    },
    "tags": []
   },
   "outputs": [],
   "source": [
    "#random_pm = X.sample(1, random_state=45)"
   ]
  },
  {
   "cell_type": "code",
   "execution_count": 26,
   "id": "7fd6c0d0-42f1-4c8c-8993-ffaa5c0275d8",
   "metadata": {
    "jupyter": {
     "source_hidden": true
    },
    "tags": []
   },
   "outputs": [],
   "source": [
    "#random_pm"
   ]
  },
  {
   "cell_type": "code",
   "execution_count": 27,
   "id": "052937c1-aea8-41a7-b28e-30af99b71d1e",
   "metadata": {
    "jupyter": {
     "source_hidden": true
    },
    "tags": []
   },
   "outputs": [],
   "source": [
    "#knn.predict(random_pm)"
   ]
  },
  {
   "cell_type": "code",
   "execution_count": 28,
   "id": "ac09c650-ea28-404c-9cfe-55406764058c",
   "metadata": {
    "jupyter": {
     "source_hidden": true
    },
    "tags": []
   },
   "outputs": [],
   "source": [
    "#scores = cross_val_score(knn, X, y, cv=10, scoring='neg_mean_squared_error')\n",
    "#mean_score = -scores.mean()\n",
    "#print(f\"Ortalama MSE: {mean_score}\")"
   ]
  },
  {
   "cell_type": "code",
   "execution_count": 29,
   "id": "37dd7d50-b6cf-4748-bfe1-352c8cdaf853",
   "metadata": {
    "jupyter": {
     "source_hidden": true
    },
    "tags": []
   },
   "outputs": [],
   "source": [
    "#SVM\n",
    "#svr = SVR()\n",
    "#svr.fit(X_train, y_train)\n",
    "#y_pred = svr.predict(X_test)\n",
    "#mse = mean_squared_error(y_test, y_pred)\n",
    "#mae = mean_absolute_error(y_test, y_pred)\n",
    "#rmse = mean_squared_error(y_test, y_pred, squared=False)\n",
    "#r2 = r2_score(y_test, y_pred)\n",
    "#max_err = max_error(y_test, y_pred)"
   ]
  },
  {
   "cell_type": "code",
   "execution_count": 30,
   "id": "d17da4ab-9f44-412d-b69e-7b14b2f09794",
   "metadata": {
    "jupyter": {
     "source_hidden": true
    },
    "tags": []
   },
   "outputs": [],
   "source": [
    "#mse, mae, rmse, r2, max_err"
   ]
  },
  {
   "cell_type": "code",
   "execution_count": 31,
   "id": "bf9cea9c-f4ba-43f4-ada5-1fd18051cfab",
   "metadata": {
    "jupyter": {
     "source_hidden": true
    },
    "tags": []
   },
   "outputs": [],
   "source": [
    "#cv_scores = cross_val_score(svr, X, y, cv=10, scoring='neg_mean_squared_error')"
   ]
  },
  {
   "cell_type": "code",
   "execution_count": 32,
   "id": "672c68f1-4f51-4cf7-b6b5-99c8bed11e15",
   "metadata": {
    "jupyter": {
     "source_hidden": true
    },
    "tags": []
   },
   "outputs": [],
   "source": [
    "#cv_scores"
   ]
  },
  {
   "cell_type": "code",
   "execution_count": 33,
   "id": "e9a88375-e15a-48b1-91c7-94d7078756c3",
   "metadata": {},
   "outputs": [],
   "source": [
    "scaler = StandardScaler()\n",
    "X_scaled = scaler.fit_transform(X)"
   ]
  },
  {
   "cell_type": "code",
   "execution_count": 34,
   "id": "e6029f94-4a5e-4db9-b75e-8e6a37397531",
   "metadata": {
    "tags": []
   },
   "outputs": [],
   "source": [
    "X_train, X_test, y_train, y_test = train_test_split(X_scaled, y, test_size=0.2, random_state=42)"
   ]
  },
  {
   "cell_type": "code",
   "execution_count": 35,
   "id": "ab6e5c62-5809-4cba-a3cd-148bbba2a1f7",
   "metadata": {
    "tags": []
   },
   "outputs": [
    {
     "data": {
      "text/html": [
       "<style>#sk-container-id-1 {color: black;}#sk-container-id-1 pre{padding: 0;}#sk-container-id-1 div.sk-toggleable {background-color: white;}#sk-container-id-1 label.sk-toggleable__label {cursor: pointer;display: block;width: 100%;margin-bottom: 0;padding: 0.3em;box-sizing: border-box;text-align: center;}#sk-container-id-1 label.sk-toggleable__label-arrow:before {content: \"▸\";float: left;margin-right: 0.25em;color: #696969;}#sk-container-id-1 label.sk-toggleable__label-arrow:hover:before {color: black;}#sk-container-id-1 div.sk-estimator:hover label.sk-toggleable__label-arrow:before {color: black;}#sk-container-id-1 div.sk-toggleable__content {max-height: 0;max-width: 0;overflow: hidden;text-align: left;background-color: #f0f8ff;}#sk-container-id-1 div.sk-toggleable__content pre {margin: 0.2em;color: black;border-radius: 0.25em;background-color: #f0f8ff;}#sk-container-id-1 input.sk-toggleable__control:checked~div.sk-toggleable__content {max-height: 200px;max-width: 100%;overflow: auto;}#sk-container-id-1 input.sk-toggleable__control:checked~label.sk-toggleable__label-arrow:before {content: \"▾\";}#sk-container-id-1 div.sk-estimator input.sk-toggleable__control:checked~label.sk-toggleable__label {background-color: #d4ebff;}#sk-container-id-1 div.sk-label input.sk-toggleable__control:checked~label.sk-toggleable__label {background-color: #d4ebff;}#sk-container-id-1 input.sk-hidden--visually {border: 0;clip: rect(1px 1px 1px 1px);clip: rect(1px, 1px, 1px, 1px);height: 1px;margin: -1px;overflow: hidden;padding: 0;position: absolute;width: 1px;}#sk-container-id-1 div.sk-estimator {font-family: monospace;background-color: #f0f8ff;border: 1px dotted black;border-radius: 0.25em;box-sizing: border-box;margin-bottom: 0.5em;}#sk-container-id-1 div.sk-estimator:hover {background-color: #d4ebff;}#sk-container-id-1 div.sk-parallel-item::after {content: \"\";width: 100%;border-bottom: 1px solid gray;flex-grow: 1;}#sk-container-id-1 div.sk-label:hover label.sk-toggleable__label {background-color: #d4ebff;}#sk-container-id-1 div.sk-serial::before {content: \"\";position: absolute;border-left: 1px solid gray;box-sizing: border-box;top: 0;bottom: 0;left: 50%;z-index: 0;}#sk-container-id-1 div.sk-serial {display: flex;flex-direction: column;align-items: center;background-color: white;padding-right: 0.2em;padding-left: 0.2em;position: relative;}#sk-container-id-1 div.sk-item {position: relative;z-index: 1;}#sk-container-id-1 div.sk-parallel {display: flex;align-items: stretch;justify-content: center;background-color: white;position: relative;}#sk-container-id-1 div.sk-item::before, #sk-container-id-1 div.sk-parallel-item::before {content: \"\";position: absolute;border-left: 1px solid gray;box-sizing: border-box;top: 0;bottom: 0;left: 50%;z-index: -1;}#sk-container-id-1 div.sk-parallel-item {display: flex;flex-direction: column;z-index: 1;position: relative;background-color: white;}#sk-container-id-1 div.sk-parallel-item:first-child::after {align-self: flex-end;width: 50%;}#sk-container-id-1 div.sk-parallel-item:last-child::after {align-self: flex-start;width: 50%;}#sk-container-id-1 div.sk-parallel-item:only-child::after {width: 0;}#sk-container-id-1 div.sk-dashed-wrapped {border: 1px dashed gray;margin: 0 0.4em 0.5em 0.4em;box-sizing: border-box;padding-bottom: 0.4em;background-color: white;}#sk-container-id-1 div.sk-label label {font-family: monospace;font-weight: bold;display: inline-block;line-height: 1.2em;}#sk-container-id-1 div.sk-label-container {text-align: center;}#sk-container-id-1 div.sk-container {/* jupyter's `normalize.less` sets `[hidden] { display: none; }` but bootstrap.min.css set `[hidden] { display: none !important; }` so we also need the `!important` here to be able to override the default hidden behavior on the sphinx rendered scikit-learn.org. See: https://github.com/scikit-learn/scikit-learn/issues/21755 */display: inline-block !important;position: relative;}#sk-container-id-1 div.sk-text-repr-fallback {display: none;}</style><div id=\"sk-container-id-1\" class=\"sk-top-container\"><div class=\"sk-text-repr-fallback\"><pre>SVC(kernel=&#x27;linear&#x27;)</pre><b>In a Jupyter environment, please rerun this cell to show the HTML representation or trust the notebook. <br />On GitHub, the HTML representation is unable to render, please try loading this page with nbviewer.org.</b></div><div class=\"sk-container\" hidden><div class=\"sk-item\"><div class=\"sk-estimator sk-toggleable\"><input class=\"sk-toggleable__control sk-hidden--visually\" id=\"sk-estimator-id-1\" type=\"checkbox\" checked><label for=\"sk-estimator-id-1\" class=\"sk-toggleable__label sk-toggleable__label-arrow\">SVC</label><div class=\"sk-toggleable__content\"><pre>SVC(kernel=&#x27;linear&#x27;)</pre></div></div></div></div></div>"
      ],
      "text/plain": [
       "SVC(kernel='linear')"
      ]
     },
     "execution_count": 35,
     "metadata": {},
     "output_type": "execute_result"
    }
   ],
   "source": [
    "model = SVC(kernel='linear')\n",
    "model.fit(X_train, y_train)"
   ]
  },
  {
   "cell_type": "code",
   "execution_count": 36,
   "id": "0507e1a8-d65b-4cf3-8432-7822776b9be4",
   "metadata": {
    "tags": []
   },
   "outputs": [
    {
     "name": "stdout",
     "output_type": "stream",
     "text": [
      "              precision    recall  f1-score   support\n",
      "\n",
      "       clean       0.70      0.48      0.57      2366\n",
      "       dirty       0.86      0.94      0.89      7712\n",
      "\n",
      "    accuracy                           0.83     10078\n",
      "   macro avg       0.78      0.71      0.73     10078\n",
      "weighted avg       0.82      0.83      0.82     10078\n",
      "\n"
     ]
    }
   ],
   "source": [
    "y_pred = model.predict(X_test)\n",
    "print(classification_report(y_test, y_pred))"
   ]
  },
  {
   "cell_type": "code",
   "execution_count": 37,
   "id": "d43bd0f8-37ab-420d-b6f2-e3acb709f7d5",
   "metadata": {
    "tags": []
   },
   "outputs": [
    {
     "name": "stdout",
     "output_type": "stream",
     "text": [
      "Accuracy: 0.8293312165112126\n"
     ]
    }
   ],
   "source": [
    "print(f\"Accuracy: {accuracy_score(y_test, y_pred)}\")"
   ]
  },
  {
   "cell_type": "code",
   "execution_count": 38,
   "id": "2bfbfd6e-b30b-4350-b1b1-076d798e6cfd",
   "metadata": {
    "tags": []
   },
   "outputs": [],
   "source": [
    "dt_classifier = DecisionTreeClassifier(random_state=42)\n",
    "dt_classifier.fit(X_train, y_train)\n",
    "y_pred = dt_classifier.predict(X_test)\n",
    "accuracy = accuracy_score(y_test, y_pred)\n",
    "class_report = classification_report(y_test, y_pred)"
   ]
  },
  {
   "cell_type": "code",
   "execution_count": 39,
   "id": "5047282a-8060-4afc-8524-14793ca44eff",
   "metadata": {
    "tags": []
   },
   "outputs": [
    {
     "name": "stdout",
     "output_type": "stream",
     "text": [
      "Accuracy: 0.8412383409406629\n",
      "              precision    recall  f1-score   support\n",
      "\n",
      "       clean       0.66      0.68      0.67      2366\n",
      "       dirty       0.90      0.89      0.90      7712\n",
      "\n",
      "    accuracy                           0.84     10078\n",
      "   macro avg       0.78      0.78      0.78     10078\n",
      "weighted avg       0.84      0.84      0.84     10078\n",
      "\n"
     ]
    }
   ],
   "source": [
    "print(f\"Accuracy: {accuracy}\")\n",
    "print(class_report)"
   ]
  },
  {
   "cell_type": "code",
   "execution_count": 40,
   "id": "a846d339-a7e8-4c1f-9ed0-5367dbb7b667",
   "metadata": {},
   "outputs": [
    {
     "data": {
      "text/plain": [
       "['scaler.joblib']"
      ]
     },
     "execution_count": 40,
     "metadata": {},
     "output_type": "execute_result"
    }
   ],
   "source": [
    "joblib.dump(model, 'air_quality_classifier.joblib')\n",
    "joblib.dump(scaler, 'scaler.joblib')"
   ]
  },
  {
   "cell_type": "code",
   "execution_count": 41,
   "id": "db42f583-d5f1-4422-98e9-5838eeedf3e4",
   "metadata": {
    "tags": []
   },
   "outputs": [],
   "source": [
    "# Modeli kaydetme\n",
    "joblib.dump(model, 'air_quality_classifier.joblib')\n",
    "joblib.dump(scaler, 'scaler.joblib')\n",
    "model = joblib.load('air_quality_classifier.joblib')\n",
    "scaler = joblib.load('scaler.joblib')"
   ]
  },
  {
   "cell_type": "code",
   "execution_count": 42,
   "id": "e0c8beef-9914-4da1-83c4-1258772f6229",
   "metadata": {
    "tags": []
   },
   "outputs": [],
   "source": [
    "new_data = {\n",
    "    'TEMP': [56],\n",
    "    'PRES': [13],  \n",
    "    'DEWP': [1020], \n",
    "    'HUMI': [24], \n",
    "    'cbwd': [14],  \n",
    "    'hour': [3], \n",
    "    'season': [4],\n",
    "    'month': [12],\n",
    "    'No_Precipitation': [1]\n",
    "}\n"
   ]
  },
  {
   "cell_type": "code",
   "execution_count": 43,
   "id": "7e595ff0-066f-43bd-bfc1-f669816e1fa4",
   "metadata": {
    "tags": []
   },
   "outputs": [],
   "source": [
    "new_data_df = pd.DataFrame(new_data)"
   ]
  },
  {
   "cell_type": "code",
   "execution_count": 44,
   "id": "5d380496-01cb-430a-90ff-cbf032112f1d",
   "metadata": {
    "tags": []
   },
   "outputs": [],
   "source": [
    "new_data_scaled = scaler.transform(new_data_df)"
   ]
  },
  {
   "cell_type": "code",
   "execution_count": 45,
   "id": "80b60bca-db48-4105-9967-ff13a3373773",
   "metadata": {
    "tags": []
   },
   "outputs": [],
   "source": [
    "prediction = model.predict(new_data_scaled)"
   ]
  },
  {
   "cell_type": "code",
   "execution_count": 46,
   "id": "59c22e27-c75e-464a-994e-5beb24b7757c",
   "metadata": {
    "tags": []
   },
   "outputs": [
    {
     "name": "stdout",
     "output_type": "stream",
     "text": [
      "The Air Quality prediction is: dirty\n"
     ]
    }
   ],
   "source": [
    "print(f\"The Air Quality prediction is: {prediction[0]}\")"
   ]
  },
  {
   "cell_type": "code",
   "execution_count": 47,
   "id": "0ee5b657-e892-434b-8194-27c1696c6452",
   "metadata": {
    "tags": []
   },
   "outputs": [],
   "source": [
    "from sklearn.metrics import confusion_matrix\n",
    "import seaborn as sns\n",
    "import matplotlib.pyplot as plt"
   ]
  },
  {
   "cell_type": "code",
   "execution_count": 48,
   "id": "7384ee9e-6013-4b52-9316-2902fd30118b",
   "metadata": {
    "tags": []
   },
   "outputs": [],
   "source": [
    "cm = confusion_matrix(y_test, y_pred)"
   ]
  },
  {
   "cell_type": "code",
   "execution_count": 49,
   "id": "dbbaec04-6d32-4353-b130-966dd3b1fa6f",
   "metadata": {
    "tags": []
   },
   "outputs": [
    {
     "data": {
      "image/png": "[encoded data removed]",
      "text/plain": [
       "<Figure size 800x600 with 2 Axes>"
      ]
     },
     "metadata": {},
     "output_type": "display_data"
    }
   ],
   "source": [
    "plt.figure(figsize=(8, 6))\n",
    "sns.heatmap(cm, annot=True, fmt='g', cmap='Blues')\n",
    "plt.title('Confusion Matrix')\n",
    "plt.xlabel('Predicted Labels')\n",
    "plt.ylabel('True Labels')\n",
    "plt.show()"
   ]
  },
  {
   "cell_type": "code",
   "execution_count": 50,
   "id": "6711264f-9aab-41e5-a837-e7d9f12a2206",
   "metadata": {
    "tags": []
   },
   "outputs": [],
   "source": [
    "precision = precision_score(y_test, y_pred, pos_label='dirty')\n",
    "recall = recall_score(y_test, y_pred, pos_label='dirty')"
   ]
  },
  {
   "cell_type": "code",
   "execution_count": 51,
   "id": "35232e53-c845-4373-89b1-1f7260860f0e",
   "metadata": {
    "tags": []
   },
   "outputs": [
    {
     "name": "stdout",
     "output_type": "stream",
     "text": [
      "Precision (Kesinlik): 0.90\n",
      "Recall (Duyarlılık): 0.89\n"
     ]
    }
   ],
   "source": [
    "print(f'Precision (Kesinlik): {precision:.2f}')\n",
    "print(f'Recall (Duyarlılık): {recall:.2f}')"
   ]
  },
  {
   "cell_type": "code",
   "execution_count": 52,
   "id": "07f8a51e-7ced-452a-95d6-888d1ee6c760",
   "metadata": {
    "tags": []
   },
   "outputs": [],
   "source": [
    "precision = precision_score(y_test, y_pred, pos_label='clean')\n",
    "recall = recall_score(y_test, y_pred, pos_label='clean')"
   ]
  },
  {
   "cell_type": "code",
   "execution_count": 53,
   "id": "f04cacf3-ae81-4f87-8876-7c4329f9870e",
   "metadata": {
    "tags": []
   },
   "outputs": [
    {
     "name": "stdout",
     "output_type": "stream",
     "text": [
      "Precision (Kesinlik): 0.66\n",
      "Recall (Duyarlılık): 0.68\n"
     ]
    }
   ],
   "source": [
    "print(f'Precision (Kesinlik): {precision:.2f}')\n",
    "print(f'Recall (Duyarlılık): {recall:.2f}')"
   ]
  },
  {
   "cell_type": "code",
   "execution_count": 55,
   "id": "a8a4c5e1-dd38-4cbf-8c24-72a830c83f09",
   "metadata": {
    "tags": []
   },
   "outputs": [],
   "source": [
    "model = RandomForestClassifier(n_estimators=100, random_state=42)\n",
    "cv_scores = cross_val_score(model, X_scaled, y, cv=5, scoring='accuracy')\n",
    "mean_cv_scores = cv_scores.mean()\n",
    "std_cv_scores = cv_scores.std()"
   ]
  },
  {
   "cell_type": "code",
   "execution_count": 57,
   "id": "f77b89c7-5230-4494-91b8-6f999cfad358",
   "metadata": {
    "tags": []
   },
   "outputs": [
    {
     "name": "stdout",
     "output_type": "stream",
     "text": [
      "CV Accuracy Scores: [0.84659655 0.84024608 0.8597797  0.83040587 0.81939069]\n",
      "Mean CV Accuracy: 0.8393\n",
      "Standard Deviation of CV Accuracy: 0.0138\n"
     ]
    }
   ],
   "source": [
    "print(f'CV Accuracy Scores: {cv_scores}')\n",
    "print(f'Mean CV Accuracy: {mean_cv_scores:.4f}')\n",
    "print(f'Standard Deviation of CV Accuracy: {std_cv_scores:.4f}')"
   ]
  },
  {
   "cell_type": "code",
   "execution_count": null,
   "id": "40c9addd-6e88-4ed4-8c97-c129dc7dff74",
   "metadata": {},
   "outputs": [],
   "source": []
  }
 ],
 "metadata": {
  "kernelspec": {
   "display_name": "Python 3 (ipykernel)",
   "language": "python",
   "name": "python3"
  },
  "language_info": {
   "codemirror_mode": {
    "name": "ipython",
    "version": 3
   },
   "file_extension": ".py",
   "mimetype": "text/x-python",
   "name": "python",
   "nbconvert_exporter": "python",
   "pygments_lexer": "ipython3",
   "version": "3.11.5"
  }
 },
 "nbformat": 4,
 "nbformat_minor": 5
}
